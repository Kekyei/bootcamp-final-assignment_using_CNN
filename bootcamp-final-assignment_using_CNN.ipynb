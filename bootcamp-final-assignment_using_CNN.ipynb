{
 "cells": [
  {
   "cell_type": "markdown",
   "metadata": {
    "id": "wsIqjb7Ebs3B",
    "pycharm": {
     "name": "#%% md\n"
    }
   },
   "source": [
    "## Loading Libraries\n",
    "All Python capabilities are not loaded to our working environment by default (even they are already installed in your system). So, we import each and every library that we want to use.\n",
    "\n",
    "We chose alias names for our libraries for the sake of our convenience (numpy --> np and pandas --> pd, tensorlow --> tf).\n",
    "\n",
    "Note: You can import all the libraries that you think will be required or can import it as you go along."
   ]
  },
  {
   "cell_type": "code",
   "execution_count": 13,
   "metadata": {
    "id": "BIe16kmoUmhr",
    "pycharm": {
     "is_executing": true,
     "name": "#%%\n"
    }
   },
   "outputs": [],
   "source": [
    "import pandas as pd                                     # Data analysis and manipulation\n",
    "import numpy as np                                      # Fundamental package for linear algebra and multi-dimensional arrays\n",
    "import os                                               # OS module in Python provides a way of using operating system dependent\n",
    "import cv2 # Library for image processing\n",
    "from sklearn.model_selection import train_test_split    # For splitting the data into train and validation set\n",
    "from sklearn.metrics import f1_score\n",
    "from tensorflow.keras.models import Sequential\n",
    "from tensorflow.keras.layers import Conv2D, MaxPooling2D, Flatten, Dense, Dropout\n",
    "import matplotlib.pyplot as plt                         # For plotting the graph\n",
    "%matplotlib inline"
   ]
  },
  {
   "cell_type": "markdown",
   "metadata": {
    "collapsed": false,
    "pycharm": {
     "name": "#%% md\n"
    }
   },
   "source": [
    "## Loading and preparing training data\n"
   ]
  },
  {
   "cell_type": "code",
   "execution_count": 14,
   "metadata": {
    "id": "vMXmX8g3dflK",
    "pycharm": {
     "is_executing": true,
     "name": "#%%\n"
    }
   },
   "outputs": [
    {
     "data": {
      "text/html": [
       "<div>\n",
       "<style scoped>\n",
       "    .dataframe tbody tr th:only-of-type {\n",
       "        vertical-align: middle;\n",
       "    }\n",
       "\n",
       "    .dataframe tbody tr th {\n",
       "        vertical-align: top;\n",
       "    }\n",
       "\n",
       "    .dataframe thead th {\n",
       "        text-align: right;\n",
       "    }\n",
       "</style>\n",
       "<table border=\"1\" class=\"dataframe\">\n",
       "  <thead>\n",
       "    <tr style=\"text-align: right;\">\n",
       "      <th></th>\n",
       "      <th>filename</th>\n",
       "      <th>filepaths</th>\n",
       "      <th>label</th>\n",
       "    </tr>\n",
       "  </thead>\n",
       "  <tbody>\n",
       "    <tr>\n",
       "      <th>0</th>\n",
       "      <td>Image_1.jpg</td>\n",
       "      <td>C:/Users/Mr.Hassan/DataspellProjects/eye_gende...</td>\n",
       "      <td>male</td>\n",
       "    </tr>\n",
       "    <tr>\n",
       "      <th>1</th>\n",
       "      <td>Image_2.jpg</td>\n",
       "      <td>C:/Users/Mr.Hassan/DataspellProjects/eye_gende...</td>\n",
       "      <td>female</td>\n",
       "    </tr>\n",
       "    <tr>\n",
       "      <th>2</th>\n",
       "      <td>Image_3.jpg</td>\n",
       "      <td>C:/Users/Mr.Hassan/DataspellProjects/eye_gende...</td>\n",
       "      <td>female</td>\n",
       "    </tr>\n",
       "    <tr>\n",
       "      <th>3</th>\n",
       "      <td>Image_4.jpg</td>\n",
       "      <td>C:/Users/Mr.Hassan/DataspellProjects/eye_gende...</td>\n",
       "      <td>female</td>\n",
       "    </tr>\n",
       "    <tr>\n",
       "      <th>4</th>\n",
       "      <td>Image_5.jpg</td>\n",
       "      <td>C:/Users/Mr.Hassan/DataspellProjects/eye_gende...</td>\n",
       "      <td>male</td>\n",
       "    </tr>\n",
       "    <tr>\n",
       "      <th>...</th>\n",
       "      <td>...</td>\n",
       "      <td>...</td>\n",
       "      <td>...</td>\n",
       "    </tr>\n",
       "    <tr>\n",
       "      <th>9215</th>\n",
       "      <td>Image_9216.jpg</td>\n",
       "      <td>C:/Users/Mr.Hassan/DataspellProjects/eye_gende...</td>\n",
       "      <td>male</td>\n",
       "    </tr>\n",
       "    <tr>\n",
       "      <th>9216</th>\n",
       "      <td>Image_9217.jpg</td>\n",
       "      <td>C:/Users/Mr.Hassan/DataspellProjects/eye_gende...</td>\n",
       "      <td>male</td>\n",
       "    </tr>\n",
       "    <tr>\n",
       "      <th>9217</th>\n",
       "      <td>Image_9218.jpg</td>\n",
       "      <td>C:/Users/Mr.Hassan/DataspellProjects/eye_gende...</td>\n",
       "      <td>male</td>\n",
       "    </tr>\n",
       "    <tr>\n",
       "      <th>9218</th>\n",
       "      <td>Image_9219.jpg</td>\n",
       "      <td>C:/Users/Mr.Hassan/DataspellProjects/eye_gende...</td>\n",
       "      <td>male</td>\n",
       "    </tr>\n",
       "    <tr>\n",
       "      <th>9219</th>\n",
       "      <td>Image_9220.jpg</td>\n",
       "      <td>C:/Users/Mr.Hassan/DataspellProjects/eye_gende...</td>\n",
       "      <td>female</td>\n",
       "    </tr>\n",
       "  </tbody>\n",
       "</table>\n",
       "<p>9220 rows × 3 columns</p>\n",
       "</div>"
      ],
      "text/plain": [
       "            filename                                          filepaths  \\\n",
       "0        Image_1.jpg  C:/Users/Mr.Hassan/DataspellProjects/eye_gende...   \n",
       "1        Image_2.jpg  C:/Users/Mr.Hassan/DataspellProjects/eye_gende...   \n",
       "2        Image_3.jpg  C:/Users/Mr.Hassan/DataspellProjects/eye_gende...   \n",
       "3        Image_4.jpg  C:/Users/Mr.Hassan/DataspellProjects/eye_gende...   \n",
       "4        Image_5.jpg  C:/Users/Mr.Hassan/DataspellProjects/eye_gende...   \n",
       "...              ...                                                ...   \n",
       "9215  Image_9216.jpg  C:/Users/Mr.Hassan/DataspellProjects/eye_gende...   \n",
       "9216  Image_9217.jpg  C:/Users/Mr.Hassan/DataspellProjects/eye_gende...   \n",
       "9217  Image_9218.jpg  C:/Users/Mr.Hassan/DataspellProjects/eye_gende...   \n",
       "9218  Image_9219.jpg  C:/Users/Mr.Hassan/DataspellProjects/eye_gende...   \n",
       "9219  Image_9220.jpg  C:/Users/Mr.Hassan/DataspellProjects/eye_gende...   \n",
       "\n",
       "       label  \n",
       "0       male  \n",
       "1     female  \n",
       "2     female  \n",
       "3     female  \n",
       "4       male  \n",
       "...      ...  \n",
       "9215    male  \n",
       "9216    male  \n",
       "9217    male  \n",
       "9218    male  \n",
       "9219  female  \n",
       "\n",
       "[9220 rows x 3 columns]"
      ]
     },
     "execution_count": 14,
     "metadata": {},
     "output_type": "execute_result"
    }
   ],
   "source": [
    "labels = pd.read_csv(r\"C:\\Users\\Mr.Hassan\\DataspellProjects\\eye_gender_data\\Training_set.csv\")   # loading the labels\n",
    "file_paths = [[fname, 'C:/Users/Mr.Hassan/DataspellProjects/eye_gender_data/train/' + fname] for fname in labels['filename']]\n",
    "images = pd.DataFrame(file_paths, columns=['filename', 'filepaths'])\n",
    "train_data = pd.merge(images, labels, how = 'inner', on = 'filename')\n",
    "train_data"
   ]
  },
  {
   "cell_type": "code",
   "execution_count": 15,
   "metadata": {
    "pycharm": {
     "name": "#%%\n"
    }
   },
   "outputs": [],
   "source": [
    "# Initialize data and labels lists\n",
    "num_classes = 2\n",
    "image_size = 64\n",
    "data = []\n",
    "labels = []\n",
    "\n",
    "# Iterate through rows of the train data file\n",
    "\n",
    "for index, row in train_data.iterrows():\n",
    "\n",
    "    # Read image file and convert to grayscale\n",
    "    image = cv2.imread(row['filepaths'], cv2.IMREAD_GRAYSCALE)\n",
    "\n",
    "    # Resize image\n",
    "    image = cv2.resize(image, (image_size, image_size))\n",
    "    \n",
    "    # Append image and label to data and labels lists\n",
    "    data.append(image)\n",
    "    labels.append(row['label'])"
   ]
  },
  {
   "cell_type": "markdown",
   "metadata": {
    "id": "BvIxaRD6sn3m",
    "pycharm": {
     "name": "#%% md\n"
    }
   },
   "source": [
    "## Data Pre-processing\n",
    "It is necessary to bring all the images in the same shape and size, also convert them to their pixel values because all machine learning or deep learning models accepts only the numerical data. Also we need to convert all the labels from categorical to numerical values."
   ]
  },
  {
   "cell_type": "code",
   "execution_count": 16,
   "metadata": {
    "pycharm": {
     "name": "#%%\n"
    }
   },
   "outputs": [],
   "source": [
    "# Convert data and labels lists to numpy arrays\n",
    "data = np.array(data)\n",
    "labels = np.array(labels)"
   ]
  },
  {
   "cell_type": "code",
   "execution_count": 17,
   "metadata": {
    "pycharm": {
     "name": "#%%\n"
    }
   },
   "outputs": [],
   "source": [
    "# Normalize data\n",
    "data = data / 255.0"
   ]
  },
  {
   "cell_type": "markdown",
   "metadata": {
    "id": "cDCZ53yE7340",
    "pycharm": {
     "name": "#%% md\n"
    }
   },
   "source": [
    "## Building Model & Hyperparameter tuning\n",
    "Now we are finally ready, and we can train the model.\n"
   ]
  },
  {
   "cell_type": "code",
   "execution_count": 18,
   "metadata": {
    "id": "jLfoImV7ds57",
    "pycharm": {
     "is_executing": true,
     "name": "#%%\n"
    }
   },
   "outputs": [],
   "source": [
    "# Split data into train and validation sets\n",
    "x_train, x_val, y_train, y_val = train_test_split(data, labels, test_size=0.2)"
   ]
  },
  {
   "cell_type": "code",
   "execution_count": 19,
   "metadata": {
    "pycharm": {
     "name": "#%%\n"
    }
   },
   "outputs": [],
   "source": [
    "from sklearn.preprocessing import LabelEncoder\n",
    "from tensorflow.keras.utils import to_categorical\n",
    "\n",
    "# Create a label encoder\n",
    "label_encoder = LabelEncoder()\n",
    "\n",
    "# Fit the label encoder to the labels\n",
    "label_encoder.fit(y_train)\n",
    "\n",
    "# Encode the labels\n",
    "y_train_encoded = label_encoder.transform(y_train)\n",
    "y_val_encoded = label_encoder.transform(y_val)\n",
    "\n",
    "# Convert the labels to one-hot encoded vectors\n",
    "y_train_one_hot = to_categorical(y_train_encoded)\n",
    "y_val_one_hot = to_categorical(y_val_encoded)"
   ]
  },
  {
   "cell_type": "code",
   "execution_count": 20,
   "metadata": {
    "id": "kOKWYA6Ua4Uh",
    "pycharm": {
     "is_executing": true,
     "name": "#%%\n"
    }
   },
   "outputs": [],
   "source": [
    "# Build the CNN model\n",
    "model = Sequential()\n",
    "model.add(Conv2D(32, (3, 3), input_shape=(image_size, image_size, 1), activation='relu'))\n",
    "model.add(MaxPooling2D(pool_size=(2, 2)))\n",
    "model.add(Conv2D(64, (3, 3), activation='relu'))\n",
    "model.add(MaxPooling2D(pool_size=(2, 2)))\n",
    "model.add(Flatten())\n",
    "model.add(Dense(128, activation='relu'))\n",
    "model.add(Dropout(0.5))\n",
    "model.add(Dense(num_classes, activation='softmax'))"
   ]
  },
  {
   "cell_type": "markdown",
   "metadata": {
    "id": "tc3lSJ2a-OYt",
    "pycharm": {
     "name": "#%% md\n"
    }
   },
   "source": [
    "## Validate the model\n"
   ]
  },
  {
   "cell_type": "code",
   "execution_count": 21,
   "metadata": {
    "pycharm": {
     "name": "#%%\n"
    }
   },
   "outputs": [
    {
     "name": "stdout",
     "output_type": "stream",
     "text": [
      "Epoch 1/10\n",
      "231/231 [==============================] - 75s 302ms/step - loss: 0.5192 - accuracy: 0.7358 - val_loss: 0.3711 - val_accuracy: 0.8427\n",
      "Epoch 2/10\n",
      "231/231 [==============================] - 68s 293ms/step - loss: 0.3997 - accuracy: 0.8224 - val_loss: 0.3400 - val_accuracy: 0.8568\n",
      "Epoch 3/10\n",
      "231/231 [==============================] - 68s 296ms/step - loss: 0.3285 - accuracy: 0.8609 - val_loss: 0.2708 - val_accuracy: 0.8856\n",
      "Epoch 4/10\n",
      "231/231 [==============================] - 68s 293ms/step - loss: 0.2973 - accuracy: 0.8750 - val_loss: 0.2771 - val_accuracy: 0.8894\n",
      "Epoch 5/10\n",
      "231/231 [==============================] - 67s 292ms/step - loss: 0.2602 - accuracy: 0.8976 - val_loss: 0.2569 - val_accuracy: 0.8986\n",
      "Epoch 6/10\n",
      "231/231 [==============================] - 68s 293ms/step - loss: 0.2408 - accuracy: 0.8975 - val_loss: 0.2531 - val_accuracy: 0.8915\n",
      "Epoch 7/10\n",
      "231/231 [==============================] - 69s 297ms/step - loss: 0.2261 - accuracy: 0.9100 - val_loss: 0.2238 - val_accuracy: 0.9084\n",
      "Epoch 8/10\n",
      "231/231 [==============================] - 67s 291ms/step - loss: 0.2030 - accuracy: 0.9218 - val_loss: 0.2543 - val_accuracy: 0.8910\n",
      "Epoch 9/10\n",
      "231/231 [==============================] - 64s 279ms/step - loss: 0.1854 - accuracy: 0.9239 - val_loss: 0.2078 - val_accuracy: 0.9127\n",
      "Epoch 10/10\n",
      "231/231 [==============================] - 65s 282ms/step - loss: 0.1692 - accuracy: 0.9342 - val_loss: 0.2534 - val_accuracy: 0.8953\n"
     ]
    },
    {
     "data": {
      "text/plain": [
       "<keras.callbacks.History at 0x1b1af2d10d0>"
      ]
     },
     "execution_count": 21,
     "metadata": {},
     "output_type": "execute_result"
    }
   ],
   "source": [
    "# Compile the model\n",
    "model.compile(loss='categorical_crossentropy', optimizer='adam', metrics=['accuracy'])\n",
    "\n",
    "# Fit the model to the training data\n",
    "model.fit(x_train, y_train_one_hot, epochs=10, batch_size=32, validation_data=(x_val, y_val_one_hot))"
   ]
  },
  {
   "cell_type": "markdown",
   "metadata": {
    "id": "kLrpm-If-lRT",
    "pycharm": {
     "name": "#%% md\n"
    }
   },
   "source": [
    "## Predict The Output For Testing Dataset 😅\n",
    "We have trained our model, evaluated it and now finally we will predict the output/target for the testing data (i.e. Test.csv)."
   ]
  },
  {
   "cell_type": "markdown",
   "metadata": {
    "id": "nG70J6Un-s2G",
    "pycharm": {
     "name": "#%% md\n"
    }
   },
   "source": [
    "#### Load Test Set\n",
    "Load the test data on which final submission is to be made."
   ]
  },
  {
   "cell_type": "code",
   "execution_count": 35,
   "metadata": {
    "id": "iji8OaFF-fSp",
    "pycharm": {
     "is_executing": true,
     "name": "#%%\n"
    }
   },
   "outputs": [
    {
     "data": {
      "text/html": [
       "<div>\n",
       "<style scoped>\n",
       "    .dataframe tbody tr th:only-of-type {\n",
       "        vertical-align: middle;\n",
       "    }\n",
       "\n",
       "    .dataframe tbody tr th {\n",
       "        vertical-align: top;\n",
       "    }\n",
       "\n",
       "    .dataframe thead th {\n",
       "        text-align: right;\n",
       "    }\n",
       "</style>\n",
       "<table border=\"1\" class=\"dataframe\">\n",
       "  <thead>\n",
       "    <tr style=\"text-align: right;\">\n",
       "      <th></th>\n",
       "      <th>filename</th>\n",
       "      <th>filepaths</th>\n",
       "    </tr>\n",
       "  </thead>\n",
       "  <tbody>\n",
       "    <tr>\n",
       "      <th>0</th>\n",
       "      <td>Image_1.jpg</td>\n",
       "      <td>C:/Users/Mr.Hassan/DataspellProjects/eye_gende...</td>\n",
       "    </tr>\n",
       "    <tr>\n",
       "      <th>1</th>\n",
       "      <td>Image_2.jpg</td>\n",
       "      <td>C:/Users/Mr.Hassan/DataspellProjects/eye_gende...</td>\n",
       "    </tr>\n",
       "    <tr>\n",
       "      <th>2</th>\n",
       "      <td>Image_3.jpg</td>\n",
       "      <td>C:/Users/Mr.Hassan/DataspellProjects/eye_gende...</td>\n",
       "    </tr>\n",
       "    <tr>\n",
       "      <th>3</th>\n",
       "      <td>Image_4.jpg</td>\n",
       "      <td>C:/Users/Mr.Hassan/DataspellProjects/eye_gende...</td>\n",
       "    </tr>\n",
       "    <tr>\n",
       "      <th>4</th>\n",
       "      <td>Image_5.jpg</td>\n",
       "      <td>C:/Users/Mr.Hassan/DataspellProjects/eye_gende...</td>\n",
       "    </tr>\n",
       "    <tr>\n",
       "      <th>...</th>\n",
       "      <td>...</td>\n",
       "      <td>...</td>\n",
       "    </tr>\n",
       "    <tr>\n",
       "      <th>2300</th>\n",
       "      <td>Image_2301.jpg</td>\n",
       "      <td>C:/Users/Mr.Hassan/DataspellProjects/eye_gende...</td>\n",
       "    </tr>\n",
       "    <tr>\n",
       "      <th>2301</th>\n",
       "      <td>Image_2302.jpg</td>\n",
       "      <td>C:/Users/Mr.Hassan/DataspellProjects/eye_gende...</td>\n",
       "    </tr>\n",
       "    <tr>\n",
       "      <th>2302</th>\n",
       "      <td>Image_2303.jpg</td>\n",
       "      <td>C:/Users/Mr.Hassan/DataspellProjects/eye_gende...</td>\n",
       "    </tr>\n",
       "    <tr>\n",
       "      <th>2303</th>\n",
       "      <td>Image_2304.jpg</td>\n",
       "      <td>C:/Users/Mr.Hassan/DataspellProjects/eye_gende...</td>\n",
       "    </tr>\n",
       "    <tr>\n",
       "      <th>2304</th>\n",
       "      <td>Image_2305.jpg</td>\n",
       "      <td>C:/Users/Mr.Hassan/DataspellProjects/eye_gende...</td>\n",
       "    </tr>\n",
       "  </tbody>\n",
       "</table>\n",
       "<p>2305 rows × 2 columns</p>\n",
       "</div>"
      ],
      "text/plain": [
       "            filename                                          filepaths\n",
       "0        Image_1.jpg  C:/Users/Mr.Hassan/DataspellProjects/eye_gende...\n",
       "1        Image_2.jpg  C:/Users/Mr.Hassan/DataspellProjects/eye_gende...\n",
       "2        Image_3.jpg  C:/Users/Mr.Hassan/DataspellProjects/eye_gende...\n",
       "3        Image_4.jpg  C:/Users/Mr.Hassan/DataspellProjects/eye_gende...\n",
       "4        Image_5.jpg  C:/Users/Mr.Hassan/DataspellProjects/eye_gende...\n",
       "...              ...                                                ...\n",
       "2300  Image_2301.jpg  C:/Users/Mr.Hassan/DataspellProjects/eye_gende...\n",
       "2301  Image_2302.jpg  C:/Users/Mr.Hassan/DataspellProjects/eye_gende...\n",
       "2302  Image_2303.jpg  C:/Users/Mr.Hassan/DataspellProjects/eye_gende...\n",
       "2303  Image_2304.jpg  C:/Users/Mr.Hassan/DataspellProjects/eye_gende...\n",
       "2304  Image_2305.jpg  C:/Users/Mr.Hassan/DataspellProjects/eye_gende...\n",
       "\n",
       "[2305 rows x 2 columns]"
      ]
     },
     "execution_count": 35,
     "metadata": {},
     "output_type": "execute_result"
    }
   ],
   "source": [
    "test_labels = pd.read_csv(r\"C:\\Users\\Mr.Hassan\\DataspellProjects\\eye_gender_data\\Testing_set.csv\")   # loading the labels\n",
    "test_file_paths = [[fname, 'C:/Users/Mr.Hassan/DataspellProjects/eye_gender_data/test/' + fname] for fname in test_labels['filename']]\n",
    "test_images = pd.DataFrame(test_file_paths, columns=['filename', 'filepaths'])\n",
    "test_data = pd.merge(test_images, test_labels, how = 'inner', on = 'filename')\n",
    "test_data"
   ]
  },
  {
   "cell_type": "markdown",
   "metadata": {
    "id": "ZqSujaW0CRi9",
    "pycharm": {
     "name": "#%% md\n"
    }
   },
   "source": [
    "## Data Pre-processing on test_data\n"
   ]
  },
  {
   "cell_type": "code",
   "execution_count": 37,
   "metadata": {
    "id": "Wy7-NZ7TCiSQ",
    "pycharm": {
     "is_executing": true,
     "name": "#%%\n"
    }
   },
   "outputs": [],
   "source": [
    "# Repeat the same process for the test data\n",
    "testdata = []\n",
    "for index, row in test_data.iterrows():\n",
    "    image = cv2.imread(row['filepaths'], cv2.IMREAD_GRAYSCALE)\n",
    "    image = cv2.resize(image, (image_size, image_size))\n",
    "    testdata.append(image)"
   ]
  },
  {
   "cell_type": "code",
   "execution_count": 38,
   "metadata": {
    "id": "7KNDswlffvYq",
    "pycharm": {
     "is_executing": true,
     "name": "#%%\n"
    }
   },
   "outputs": [],
   "source": [
    "testdata = np.array(testdata)\n",
    "testdata = testdata / 255.0"
   ]
  },
  {
   "cell_type": "markdown",
   "metadata": {
    "id": "AxtDS6-0J0s2",
    "pycharm": {
     "name": "#%% md\n"
    }
   },
   "source": [
    "### Make Prediction on Test Dataset\n",
    "Time to make a submission!!!"
   ]
  },
  {
   "cell_type": "code",
   "execution_count": 56,
   "metadata": {
    "id": "MYeK05BHLAen",
    "pycharm": {
     "is_executing": true,
     "name": "#%%\n"
    }
   },
   "outputs": [
    {
     "name": "stdout",
     "output_type": "stream",
     "text": [
      "73/73 [==============================] - 3s 45ms/step\n"
     ]
    }
   ],
   "source": [
    "# Make predictions on the test data\n",
    "predictions = model.predict(testdata)"
   ]
  },
  {
   "cell_type": "code",
   "execution_count": null,
   "metadata": {
    "pycharm": {
     "name": "#%%\n"
    }
   },
   "outputs": [],
   "source": [
    "# Classify predictions as male or female\n",
    "predicted_classes = []\n",
    "for prediction in predictions:\n",
    "    if prediction[0] > prediction[1]:\n",
    "        predicted_classes.append('male')\n",
    "    else:\n",
    "        predicted_classes.append('female')"
   ]
  },
  {
   "cell_type": "code",
   "execution_count": 67,
   "metadata": {
    "pycharm": {
     "name": "#%%\n"
    }
   },
   "outputs": [
    {
     "data": {
      "text/html": [
       "<div>\n",
       "<style scoped>\n",
       "    .dataframe tbody tr th:only-of-type {\n",
       "        vertical-align: middle;\n",
       "    }\n",
       "\n",
       "    .dataframe tbody tr th {\n",
       "        vertical-align: top;\n",
       "    }\n",
       "\n",
       "    .dataframe thead th {\n",
       "        text-align: right;\n",
       "    }\n",
       "</style>\n",
       "<table border=\"1\" class=\"dataframe\">\n",
       "  <thead>\n",
       "    <tr style=\"text-align: right;\">\n",
       "      <th></th>\n",
       "      <th>label</th>\n",
       "    </tr>\n",
       "  </thead>\n",
       "  <tbody>\n",
       "    <tr>\n",
       "      <th>0</th>\n",
       "      <td>female</td>\n",
       "    </tr>\n",
       "    <tr>\n",
       "      <th>1</th>\n",
       "      <td>male</td>\n",
       "    </tr>\n",
       "    <tr>\n",
       "      <th>2</th>\n",
       "      <td>female</td>\n",
       "    </tr>\n",
       "    <tr>\n",
       "      <th>3</th>\n",
       "      <td>female</td>\n",
       "    </tr>\n",
       "    <tr>\n",
       "      <th>4</th>\n",
       "      <td>female</td>\n",
       "    </tr>\n",
       "  </tbody>\n",
       "</table>\n",
       "</div>"
      ],
      "text/plain": [
       "    label\n",
       "0  female\n",
       "1    male\n",
       "2  female\n",
       "3  female\n",
       "4  female"
      ]
     },
     "execution_count": 67,
     "metadata": {},
     "output_type": "execute_result"
    }
   ],
   "source": [
    "#save predictions to a dataframe\n",
    "predictions_df = pd.DataFrame(predicted_classes, columns=['label'])\n",
    "predictions_df.head()"
   ]
  },
  {
   "cell_type": "markdown",
   "metadata": {
    "id": "THaqbN4LM6YX",
    "pycharm": {
     "name": "#%% md\n"
    }
   },
   "source": [
    "## **How to save prediciton results locally via jupyter notebook?**\n",
    "If you are working on Jupyter notebook, execute below block of codes. A file named 'submission.csv' will be created in your current working directory."
   ]
  },
  {
   "cell_type": "code",
   "execution_count": 71,
   "metadata": {
    "id": "5I2wAC5RMwvJ",
    "pycharm": {
     "is_executing": true,
     "name": "#%%\n"
    }
   },
   "outputs": [],
   "source": [
    "# prediction is nothing but the final predictions of your model on input features of your new unseen test data\n",
    "res = pd.concat([test_data['filename'], predictions_df['label']], axis=1)\n",
    "\n",
    "# Save the new dataframe to a CSV file\n",
    "predictions_df.to_csv(\"submission.csv\", index = False) "
   ]
  },
  {
   "cell_type": "markdown",
   "metadata": {
    "id": "NohZiMIkO_tX",
    "pycharm": {
     "name": "#%% md\n"
    }
   },
   "source": [
    "# **Well Done! 👍**\n",
    "You are all set to make a submission. Let's head to the **[challenge page](https://dphi.tech/challenges/4-week-deep-learning-online-bootcamp-final-assignment-sex-determination-by-morphometry-of-eyes/144/submit)** to make the submission."
   ]
  }
 ],
 "metadata": {
  "colab": {
   "name": "4 Week Deep Learning Bootcamp - Final Assignment: Template Notebook",
   "provenance": []
  },
  "kernelspec": {
   "display_name": "Python 3",
   "language": "python",
   "name": "python3"
  },
  "language_info": {
   "codemirror_mode": {
    "name": "ipython",
    "version": 3
   },
   "file_extension": ".py",
   "mimetype": "text/x-python",
   "name": "python",
   "nbconvert_exporter": "python",
   "pygments_lexer": "ipython3",
   "version": "3.8.4"
  },
  "vscode": {
   "interpreter": {
    "hash": "99af3e640fd4e474a589badeb2298da6e916bd1eef1cfdb1d4d8a7dbe00511e5"
   }
  }
 },
 "nbformat": 4,
 "nbformat_minor": 0
}